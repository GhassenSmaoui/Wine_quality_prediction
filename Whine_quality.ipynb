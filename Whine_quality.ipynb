{
  "nbformat": 4,
  "nbformat_minor": 0,
  "metadata": {
    "colab": {
      "name": "Whine_quality.ipynb",
      "provenance": [],
      "authorship_tag": "ABX9TyMDCnvjKVHh1sFGB0zHi40x",
      "include_colab_link": true
    },
    "kernelspec": {
      "name": "python3",
      "display_name": "Python 3"
    }
  },
  "cells": [
    {
      "cell_type": "markdown",
      "metadata": {
        "id": "view-in-github",
        "colab_type": "text"
      },
      "source": [
        "<a href=\"https://colab.research.google.com/github/GhassenSmaoui/Wine_quality_prediction/blob/master/Whine_quality.ipynb\" target=\"_parent\"><img src=\"https://colab.research.google.com/assets/colab-badge.svg\" alt=\"Open In Colab\"/></a>"
      ]
    },
    {
      "cell_type": "code",
      "metadata": {
        "id": "mwq5osSmhJxq",
        "colab_type": "code",
        "colab": {}
      },
      "source": [
        "#this project predicts the quality of wine based on several features/ attributes \n",
        "#the qualities are ranked on a scale from 0 to 10\n",
        "#starting by importing dependencies \n",
        "\n",
        "from __future__ import absolute_import, division, print_function, unicode_literals\n",
        "import numpy as np\n",
        "import matplotlib.pyplot as plt\n",
        "%matplotlib inline\n",
        "try:\n",
        "  # Use the %tensorflow_version magic if in colab.\n",
        "  %tensorflow_version 2.x\n",
        "except Exception:\n",
        "  pass\n",
        "\n",
        "import tensorflow as tf\n",
        "import logging\n",
        "logger = tf.get_logger()\n",
        "logger.setLevel(logging.ERROR)\n",
        "from sklearn.model_selection import train_test_split\n",
        "from sklearn import preprocessing # the preprocessing module is used in the below cell to scale the data (normalize it )"
      ],
      "execution_count": 0,
      "outputs": []
    }
  ]
}